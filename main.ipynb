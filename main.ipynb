{
 "cells": [
  {
   "cell_type": "code",
   "execution_count": null,
   "metadata": {},
   "outputs": [],
   "source": [
    "from google.colab import drive\n",
    "drive.mount('/content/drive')"
   ]
  },
  {
   "cell_type": "code",
   "execution_count": null,
   "metadata": {},
   "outputs": [],
   "source": [
    "import numpy as np \n",
    "import os,sys\n",
    "from PIL import Image"
   ]
  },
  {
   "cell_type": "code",
   "execution_count": null,
   "metadata": {},
   "outputs": [],
   "source": [
    "def grayscale(picture):\n",
    "    res= Image.new(picture.mode, picture.size)\n",
    "    width, height = picture.size\n",
    "\n",
    "    for i in range(0, width):\n",
    "        for j in range(0, height):\n",
    "            pixel=picture.getpixel((i,j))\n",
    "            avg=int((pixel[0]+pixel[1]+pixel[2])/3)\n",
    "            res.putpixel((i,j),(avg,avg,avg))\n",
    "    res.show()\n",
    "    return res"
   ]
  },
  {
   "cell_type": "code",
   "execution_count": null,
   "metadata": {},
   "outputs": [],
   "source": [
    "def normalize(picture):\n",
    "    width, height = picture.size\n",
    "    normalized_array = []\n",
    "    for j in range(0, height):\n",
    "\t    for i in range(0, width):\n",
    "\t\t    pixel = picture.getpixel((i,j))\n",
    "\t\t    normalized_array.append( pixel[0] / 255.0 )\n",
    "    return np.array(normalized_array)"
   ]
  },
  {
   "cell_type": "code",
   "execution_count": null,
   "metadata": {},
   "outputs": [],
   "source": [
    "def loadDmgLoc():\n",
    "  image_size = 150\n",
    "  #Load the VGG model\n",
    "  vgg_conv = VGG16(weights='imagenet', include_top=False, input_shape=(image_size, image_size, 3))\n",
    "\n",
    "  # Freeze the layers except the last 4 layers\n",
    "  for layer in vgg_conv.layers[:-4]:\n",
    "      layer.trainable = False\n",
    "\n",
    "  # Create the model\n",
    "  model = models.Sequential()\n",
    "  \n",
    "  # Add the vgg convolutional base model\n",
    "  model.add(vgg_conv)\n",
    "  \n",
    "  # Add new layers\n",
    "  model.add(layers.Flatten())\n",
    "  model.add(layers.Dense(1024, activation='relu'))\n",
    "  model.add(layers.Dropout(0.5))\n",
    "  model.add(layers.Dense(3, activation='softmax'))\n",
    "  \n",
    "  # Show a summary of the model. Check the number of trainable parameters\n",
    "  model.summary()\n",
    "\n",
    "  model.load_weights('/content/drive/My Drive/dataset_zapsure/dmgloc_weights.h5')\n",
    "  return model\n",
    "\n",
    "def dmgLoc(imgpath,model):\n",
    "  image_size = 150\n",
    "  img = Image.open(imgpath).resize((image_size,image_size))\n",
    "  img_arr = np.expand_dims(img_to_array(img), axis=0)\n",
    "\n",
    "  image = preprocess_input(img_arr)\n",
    "  prediction = model.predict(image)\n",
    "\n",
    "  maxval = prediction.max()\n",
    "  if(maxval == prediction[0][0]):\n",
    "    return 0 #bonnet damage\n",
    "  elif(maxval == prediction[0][1]):\n",
    "    return 1 #sides damage\n",
    "  else:\n",
    "    return 2 #rear damage"
   ]
  }
 ],
 "metadata": {
  "kernelspec": {
   "display_name": "Python 3",
   "language": "python",
   "name": "python3"
  },
  "language_info": {
   "codemirror_mode": {
    "name": "ipython",
    "version": 3
   },
   "file_extension": ".py",
   "mimetype": "text/x-python",
   "name": "python",
   "nbconvert_exporter": "python",
   "pygments_lexer": "ipython3",
   "version": "3.6.5"
  }
 },
 "nbformat": 4,
 "nbformat_minor": 2
}
